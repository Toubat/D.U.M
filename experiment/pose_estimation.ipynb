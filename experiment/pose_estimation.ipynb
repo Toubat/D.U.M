{
 "cells": [
  {
   "cell_type": "code",
   "execution_count": 1,
   "source": [
    "import cv2\n",
    "import mediapipe as mp\n",
    "import numpy as np"
   ],
   "outputs": [],
   "metadata": {}
  },
  {
   "cell_type": "code",
   "execution_count": 9,
   "source": [
    "mp_pose = mp.solutions.pose\n",
    "mp_draw = mp.solutions.drawing_utils\n",
    "pose = mp_pose.Pose()"
   ],
   "outputs": [],
   "metadata": {}
  },
  {
   "cell_type": "code",
   "execution_count": 80,
   "source": [
    "def get_video_keypoints(path='../sample.mp4', discard_points=(1, 2, 3, 4, 5, 6, 9, 10, 21, 22)):\n",
    "    cap = cv2.VideoCapture(path)\n",
    "    keypoints = []\n",
    "    originals = []\n",
    "    while(cap.isOpened()):\n",
    "        _, img = cap.read()    \n",
    "        if (img is None):\n",
    "            break\n",
    "        keypoint = []\n",
    "        img_RGB = cv2.cvtColor(img, cv2.COLOR_BGR2RGB)\n",
    "        result = pose.process(img_RGB)\n",
    "        if result.pose_landmarks:\n",
    "            # mp_draw.draw_landmarks(img, result.pose_landmarks, mp_pose.POSE_CONNECTIONS)\n",
    "            for id, lm in enumerate(result.pose_landmarks.landmark):\n",
    "                if id in discard_points:\n",
    "                    continue\n",
    "                height, width, channel = img.shape\n",
    "                # cx, cy = int(lm.x * width), int(lm.y * height)\n",
    "                # cv2.circle(img, (cx, cy), 5, (255, 0, 0), cv2.FILLED)\n",
    "                # normalize pkeypoints (value range between -1 and 1)\n",
    "                keypoint.append(lm.x * 2 - 1)\n",
    "                keypoint.append(lm.y * 2 - 1)\n",
    "                keypoint.append(lm.z)\n",
    "            keypoints.append(keypoint)   \n",
    "            originals.append(result.pose_landmarks)\n",
    "        else:\n",
    "            keypoints.append(keypoints[-1])  \n",
    "            originals.append(originals[-1])\n",
    "        # cv2.imshow('frame',img)\n",
    "        if cv2.waitKey(1) & 0xFF == ord('q'):\n",
    "            break\n",
    "\n",
    "    cap.release()\n",
    "    cv2.destroyAllWindows()\n",
    "\n",
    "    keypoints = np.array(keypoints) # convert into numpy array\n",
    "\n",
    "    return keypoints, originals"
   ],
   "outputs": [],
   "metadata": {}
  },
  {
   "cell_type": "code",
   "execution_count": 81,
   "source": [
    "keypoints, originals = get_video_keypoints()"
   ],
   "outputs": [],
   "metadata": {}
  },
  {
   "cell_type": "code",
   "execution_count": 72,
   "source": [
    "keypoints.shape"
   ],
   "outputs": [
    {
     "output_type": "execute_result",
     "data": {
      "text/plain": [
       "(719, 69)"
      ]
     },
     "metadata": {},
     "execution_count": 72
    }
   ],
   "metadata": {}
  },
  {
   "cell_type": "code",
   "execution_count": 73,
   "source": [
    "sum(keypoints < -1)"
   ],
   "outputs": [
    {
     "output_type": "execute_result",
     "data": {
      "text/plain": [
       "array([0, 0, 0, 0, 0, 0, 0, 0, 0, 0, 0, 0, 0, 0, 0, 0, 0, 0, 0, 0, 0, 0,\n",
       "       0, 0, 0, 0, 0, 0, 0, 0, 0, 0, 0, 0, 0, 0, 0, 0, 0, 0, 0, 0, 0, 0,\n",
       "       0, 0, 0, 0, 0, 0, 0, 0, 0, 0, 0, 0, 0, 0, 0, 0, 0, 0, 0, 0, 0, 0,\n",
       "       0, 0, 0])"
      ]
     },
     "metadata": {},
     "execution_count": 73
    }
   ],
   "metadata": {}
  },
  {
   "cell_type": "code",
   "execution_count": 82,
   "source": [
    "keypoints2, originals2 = get_video_keypoints('https://aistdancedb.ongaaccel.jp/v1.0.0/video/10M/gBR_sBM_c01_d04_mBR0_ch01.mp4')"
   ],
   "outputs": [],
   "metadata": {}
  },
  {
   "cell_type": "code",
   "execution_count": 75,
   "source": [
    "keypoints2.shape"
   ],
   "outputs": [
    {
     "output_type": "execute_result",
     "data": {
      "text/plain": [
       "(719, 69)"
      ]
     },
     "metadata": {},
     "execution_count": 75
    }
   ],
   "metadata": {}
  },
  {
   "cell_type": "code",
   "execution_count": 76,
   "source": [
    "mat = keypoints == keypoints2"
   ],
   "outputs": [],
   "metadata": {}
  },
  {
   "cell_type": "code",
   "execution_count": 77,
   "source": [
    "np.sum(mat)"
   ],
   "outputs": [
    {
     "output_type": "execute_result",
     "data": {
      "text/plain": [
       "20"
      ]
     },
     "metadata": {},
     "execution_count": 77
    }
   ],
   "metadata": {}
  },
  {
   "cell_type": "code",
   "execution_count": 78,
   "source": [
    "keypoints[1]"
   ],
   "outputs": [
    {
     "output_type": "execute_result",
     "data": {
      "text/plain": [
       "array([ 0.00527072, -0.10486776, -0.18386245,  0.01527131, -0.10769051,\n",
       "       -0.09463866, -0.02037013, -0.12617421, -0.1205324 ,  0.01934493,\n",
       "        0.00402546, -0.03921313, -0.06964082, -0.06389654, -0.08373426,\n",
       "        0.07087052,  0.05081069, -0.01832885, -0.1454615 , -0.0881809 ,\n",
       "       -0.09199469,  0.1352421 ,  0.01395321, -0.0809948 , -0.21580088,\n",
       "       -0.1448276 , -0.14200434,  0.15756679,  0.00143051, -0.09079603,\n",
       "       -0.23626292, -0.15629983, -0.15623783,  0.15630841, -0.01503408,\n",
       "       -0.10820089, -0.236844  , -0.16273367, -0.17070948, -0.02555144,\n",
       "        0.25303531,  0.01584669, -0.07925349,  0.24135029, -0.01583396,\n",
       "       -0.04079384,  0.44368744, -0.07045238, -0.07647157,  0.43680596,\n",
       "       -0.00443262, -0.07729697,  0.61289656,  0.05600936, -0.04991513,\n",
       "        0.54329872,  0.18439208, -0.09189826,  0.63895023,  0.06589296,\n",
       "       -0.03995109,  0.5437417 ,  0.20324703, -0.06108105,  0.68296325,\n",
       "        0.01569803, -0.05513036,  0.60920501,  0.17122117])"
      ]
     },
     "metadata": {},
     "execution_count": 78
    }
   ],
   "metadata": {}
  },
  {
   "cell_type": "code",
   "execution_count": 79,
   "source": [
    "keypoints2[1]"
   ],
   "outputs": [
    {
     "output_type": "execute_result",
     "data": {
      "text/plain": [
       "array([ 0.00498664, -0.10517204, -0.18373416,  0.0152266 , -0.10772967,\n",
       "       -0.0951362 , -0.02030432, -0.12624997, -0.12038045,  0.01953256,\n",
       "        0.00424147, -0.04025197, -0.0696137 , -0.06348073, -0.08318171,\n",
       "        0.07051289,  0.05067253, -0.02068449, -0.14543718, -0.08794147,\n",
       "       -0.09086286,  0.1351124 ,  0.01417255, -0.08823098, -0.21584445,\n",
       "       -0.14474618, -0.14077954,  0.157511  ,  0.00178337, -0.09862226,\n",
       "       -0.23627764, -0.15626466, -0.15469123,  0.15622568, -0.01475334,\n",
       "       -0.11574039, -0.23692548, -0.16272426, -0.16676387, -0.02559197,\n",
       "        0.253075  ,  0.0155296 , -0.07933134,  0.24123192, -0.01551647,\n",
       "       -0.04090911,  0.44391894, -0.06607189, -0.07643878,  0.43691361,\n",
       "       -0.00352544, -0.07711011,  0.6127454 ,  0.05507562, -0.04978758,\n",
       "        0.54332232,  0.18415114, -0.0916906 ,  0.63878572,  0.06501646,\n",
       "       -0.03988653,  0.54362762,  0.20297927, -0.06101781,  0.68274176,\n",
       "        0.01456887, -0.0551675 ,  0.61092222,  0.17091037])"
      ]
     },
     "metadata": {},
     "execution_count": 79
    }
   ],
   "metadata": {}
  },
  {
   "cell_type": "code",
   "execution_count": 83,
   "source": [
    "cap = cv2.VideoCapture('../sample.mp4')\n",
    "i = 0\n",
    "while(cap.isOpened()):\n",
    "    ret, img = cap.read()    \n",
    "    if (img is None):\n",
    "            break\n",
    "    \n",
    "    img_RGB = cv2.cvtColor(img, cv2.COLOR_BGR2RGB)\n",
    "\n",
    "    mp_draw.draw_landmarks(img, originals[i], mp_pose.POSE_CONNECTIONS)  \n",
    "    mp_draw.draw_landmarks(img, originals2[i], mp_pose.POSE_CONNECTIONS)  \n",
    "\n",
    "    cv2.imshow('frame',img)\n",
    "    i += 1\n",
    "    if cv2.waitKey(1) & 0xFF == ord('q'):\n",
    "        break\n",
    "\n",
    "cap.release()\n",
    "cv2.destroyAllWindows()"
   ],
   "outputs": [
    {
     "output_type": "error",
     "ename": "KeyboardInterrupt",
     "evalue": "",
     "traceback": [
      "\u001b[0;31m---------------------------------------------------------------------------\u001b[0m",
      "\u001b[0;31mKeyboardInterrupt\u001b[0m                         Traceback (most recent call last)",
      "\u001b[0;32m<ipython-input-83-d754a1f71e36>\u001b[0m in \u001b[0;36m<module>\u001b[0;34m\u001b[0m\n\u001b[1;32m     12\u001b[0m \u001b[0;34m\u001b[0m\u001b[0m\n\u001b[1;32m     13\u001b[0m     \u001b[0mcv2\u001b[0m\u001b[0;34m.\u001b[0m\u001b[0mimshow\u001b[0m\u001b[0;34m(\u001b[0m\u001b[0;34m'frame'\u001b[0m\u001b[0;34m,\u001b[0m\u001b[0mimg\u001b[0m\u001b[0;34m)\u001b[0m\u001b[0;34m\u001b[0m\u001b[0;34m\u001b[0m\u001b[0m\n\u001b[0;32m---> 14\u001b[0;31m     \u001b[0;32mif\u001b[0m \u001b[0mcv2\u001b[0m\u001b[0;34m.\u001b[0m\u001b[0mwaitKey\u001b[0m\u001b[0;34m(\u001b[0m\u001b[0;36m1\u001b[0m\u001b[0;34m)\u001b[0m \u001b[0;34m&\u001b[0m \u001b[0;36m0xFF\u001b[0m \u001b[0;34m==\u001b[0m \u001b[0mord\u001b[0m\u001b[0;34m(\u001b[0m\u001b[0;34m'q'\u001b[0m\u001b[0;34m)\u001b[0m\u001b[0;34m:\u001b[0m\u001b[0;34m\u001b[0m\u001b[0;34m\u001b[0m\u001b[0m\n\u001b[0m\u001b[1;32m     15\u001b[0m         \u001b[0;32mbreak\u001b[0m\u001b[0;34m\u001b[0m\u001b[0;34m\u001b[0m\u001b[0m\n\u001b[1;32m     16\u001b[0m \u001b[0;34m\u001b[0m\u001b[0m\n",
      "\u001b[0;31mKeyboardInterrupt\u001b[0m: "
     ]
    }
   ],
   "metadata": {}
  },
  {
   "cell_type": "code",
   "execution_count": null,
   "source": [],
   "outputs": [],
   "metadata": {}
  }
 ],
 "metadata": {
  "orig_nbformat": 4,
  "language_info": {
   "name": "python",
   "version": "3.9.5",
   "mimetype": "text/x-python",
   "codemirror_mode": {
    "name": "ipython",
    "version": 3
   },
   "pygments_lexer": "ipython3",
   "nbconvert_exporter": "python",
   "file_extension": ".py"
  },
  "kernelspec": {
   "name": "python3",
   "display_name": "Python 3.9.5 64-bit"
  },
  "interpreter": {
   "hash": "aee8b7b246df8f9039afb4144a1f6fd8d2ca17a180786b69acc140d282b71a49"
  }
 },
 "nbformat": 4,
 "nbformat_minor": 2
}