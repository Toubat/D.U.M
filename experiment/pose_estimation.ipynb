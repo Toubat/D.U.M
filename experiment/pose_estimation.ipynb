{
 "cells": [
  {
   "cell_type": "code",
   "execution_count": 1,
   "source": [
    "import cv2\n",
    "import mediapipe as mp\n",
    "import numpy as np"
   ],
   "outputs": [],
   "metadata": {}
  },
  {
   "cell_type": "code",
   "execution_count": 2,
   "source": [
    "mp_pose = mp.solutions.pose\n",
    "mp_draw = mp.solutions.drawing_utils\n",
    "pose = mp_pose.Pose()"
   ],
   "outputs": [],
   "metadata": {}
  },
  {
   "cell_type": "code",
   "execution_count": 7,
   "source": [
    "def get_video_keypoints(path='./sample.mp4', discard_points=(1, 2, 3, 4, 5, 6, 9, 10, 21, 22)):\n",
    "    cap = cv2.VideoCapture(path)\n",
    "    keypoints = []\n",
    "    while cap.isOpened():\n",
    "        keypoint = []\n",
    "        _, img = cap.read()\n",
    "        if (img is None):\n",
    "            break\n",
    "        img_RGB = cv2.cvtColor(img, cv2.COLOR_BGR2RGB)\n",
    "        result = pose.process(img_RGB)\n",
    "        if result.pose_landmarks:\n",
    "            # mp_draw.draw_landmarks(img, result.pose_landmarks, mp_pose.POSE_CONNECTIONS)\n",
    "            for id, lm in enumerate(result.pose_landmarks.landmark):\n",
    "                if id in discard_points:\n",
    "                    continue\n",
    "                height, width, channel = img.shape\n",
    "                # cx, cy = int(lm.x * width), int(lm.y * height)\n",
    "                # cv2.circle(img, (cx, cy), 5, (255, 0, 0), cv2.FILLED)\n",
    "                keypoint.append(lm.x * 2 - 1)\n",
    "                keypoint.append(lm.y * 2 - 1)\n",
    "                keypoint.append(lm.z)\n",
    "            keypoints.append(keypoint)   \n",
    "        else:\n",
    "            keypoints.append(keypoints[-1])   \n",
    "        # cv2.putText(img, str(int(fps)), (70, 50), cv2.FONT_HERSHEY_PLAIN, 3, (255, 0, 0), 3)\n",
    "        # cv2.imshow(\"Image\", img)\n",
    "    cap.release()\n",
    "    cv2.destroyAllWindows()\n",
    "\n",
    "    keypoints = np.array(keypoints) # convert into numpy array\n",
    "\n",
    "    return keypoints"
   ],
   "outputs": [],
   "metadata": {}
  },
  {
   "cell_type": "code",
   "execution_count": 8,
   "source": [
    "keypoints = get_video_keypoints()"
   ],
   "outputs": [],
   "metadata": {}
  },
  {
   "cell_type": "code",
   "execution_count": 9,
   "source": [
    "keypoints.shape"
   ],
   "outputs": [
    {
     "output_type": "execute_result",
     "data": {
      "text/plain": [
       "(719, 69)"
      ]
     },
     "metadata": {},
     "execution_count": 9
    }
   ],
   "metadata": {}
  },
  {
   "cell_type": "code",
   "execution_count": 12,
   "source": [
    "sum(keypoints < -1)"
   ],
   "outputs": [
    {
     "output_type": "execute_result",
     "data": {
      "text/plain": [
       "array([0, 0, 0, 0, 0, 0, 0, 0, 0, 0, 0, 0, 0, 0, 0, 0, 0, 0, 0, 0, 0, 0,\n",
       "       0, 0, 0, 0, 0, 0, 0, 0, 0, 0, 0, 0, 0, 0, 0, 0, 0, 0, 0, 0, 0, 0,\n",
       "       0, 0, 0, 0, 0, 0, 0, 0, 0, 0, 0, 0, 0, 0, 0, 0, 0, 0, 0, 0, 0, 0,\n",
       "       0, 0, 0])"
      ]
     },
     "metadata": {},
     "execution_count": 12
    }
   ],
   "metadata": {}
  },
  {
   "cell_type": "code",
   "execution_count": null,
   "source": [],
   "outputs": [],
   "metadata": {}
  },
  {
   "cell_type": "code",
   "execution_count": null,
   "source": [],
   "outputs": [],
   "metadata": {}
  }
 ],
 "metadata": {
  "orig_nbformat": 4,
  "language_info": {
   "name": "python",
   "version": "3.9.5",
   "mimetype": "text/x-python",
   "codemirror_mode": {
    "name": "ipython",
    "version": 3
   },
   "pygments_lexer": "ipython3",
   "nbconvert_exporter": "python",
   "file_extension": ".py"
  },
  "kernelspec": {
   "name": "python3",
   "display_name": "Python 3.9.5 64-bit"
  },
  "interpreter": {
   "hash": "aee8b7b246df8f9039afb4144a1f6fd8d2ca17a180786b69acc140d282b71a49"
  }
 },
 "nbformat": 4,
 "nbformat_minor": 2
}